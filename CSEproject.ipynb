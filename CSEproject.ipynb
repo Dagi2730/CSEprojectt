{
  "nbformat": 4,
  "nbformat_minor": 0,
  "metadata": {
    "colab": {
      "provenance": [],
      "authorship_tag": "ABX9TyNFrhigffteLI0UQMZkYSGY",
      "include_colab_link": true
    },
    "kernelspec": {
      "name": "python3",
      "display_name": "Python 3"
    },
    "language_info": {
      "name": "python"
    }
  },
  "cells": [
    {
      "cell_type": "markdown",
      "metadata": {
        "id": "view-in-github",
        "colab_type": "text"
      },
      "source": [
        "<a href=\"https://colab.research.google.com/github/Dagi2730/CSEprojectt/blob/main/CSEproject.ipynb\" target=\"_parent\"><img src=\"https://colab.research.google.com/assets/colab-badge.svg\" alt=\"Open In Colab\"/></a>"
      ]
    },
    {
      "cell_type": "markdown",
      "source": [
        "1.What is the difference between a list, a dictionary, and a NumPy array? Give one example of each."
      ],
      "metadata": {
        "id": "qJHBPs1f9igM"
      }
    },
    {
      "cell_type": "markdown",
      "source": [
        "-list:- is a collection of elements ordered sequentially.it can hold multiple datatypes and allows duplicates. they are mutable(can modify their content)\n",
        "\n",
        "example:\n",
        "my_list = [1,2,3,4]\n",
        "print (my_list)  #output:[1,2,3,4]\n",
        "\n",
        "-Dictionary:- is an unordered collection of key-value pairs.each key maps yo a value, and keys must be unique. they are also mutable,but their keys are immutable.\n",
        "\n",
        "example:\n",
        "my_dictionary={\"name\": \"Dagi\", \"age\": \"20\", \"department\": \"software\"}\n",
        "print(my_dictionary)  #output:{\"name\": \"Dagi\", \"age\": \"20\", \"department\": \"software\"}\n",
        "\n",
        "-Numpy Array:- is a grid of values, organized as rows and columns.it comes from Numpy library and is used for numerical and scientific computations.they enable efficient mathematical operations on large datasets.\n",
        "\n",
        "example:\n",
        "import numpy ass np\n",
        "my_array = np.array([1,2,3,4,5])\n",
        "print(my_array)  #output:[1,2,3,4,5]"
      ],
      "metadata": {
        "id": "nzbuKkVdO0WK"
      }
    },
    {
      "cell_type": "markdown",
      "source": [
        "2.Given the list [10, 15, 20, 25, 30], write a function that returns the square of only even numbers."
      ],
      "metadata": {
        "id": "0IBwm7BA99S1"
      }
    },
    {
      "cell_type": "code",
      "source": [
        "def square_even(num):\n",
        "  return [n**2 for n in num if n % 2 ==0]"
      ],
      "metadata": {
        "id": "1--89uupT338"
      },
      "execution_count": null,
      "outputs": []
    },
    {
      "cell_type": "markdown",
      "source": [
        "the function uses list comparehension,it itrates throungh each numbers in the given list and checks if the number is even(n % 2 == 0) then if the number is even it will square the number(n**2) finally it returns the squared number."
      ],
      "metadata": {
        "id": "EvQ_AaDGT5tk"
      }
    },
    {
      "cell_type": "markdown",
      "source": [
        "3.What does the following code output, and why?\n",
        "\n",
        "x=[1, 2,3]\n",
        "\n",
        "y=x\n",
        "\n",
        "y.append(4)\n",
        "\n",
        "Print(y)\n"
      ],
      "metadata": {
        "id": "KvLTD_GT-EuK"
      }
    },
    {
      "cell_type": "markdown",
      "source": [
        "the output will be [1,2,3,4]\n",
        "because:\n",
        "in python,when one assign a list to another variable both x & y refer to the same object in memory. so when append method modifies the list object in y the change is reflected in both variables."
      ],
      "metadata": {
        "id": "PpWEu35KVE7E"
      }
    },
    {
      "cell_type": "markdown",
      "source": [
        "4.What does .shape and .describe() tell you about a pandas DataFrame? Show using an example."
      ],
      "metadata": {
        "id": "4t9dycMz-cJr"
      }
    },
    {
      "cell_type": "markdown",
      "source": [
        ".shape(): returns the dimensions of the DataFrame as a tuple, giving an  overview of its size.\n",
        ".describe():summarizes descriptive statistics for numerical columns in DataFrame, like count,mean,standard devation,minimum and maximum.[link text]"
      ],
      "metadata": {
        "id": "SjgBaz3oV6wR"
      }
    },
    {
      "cell_type": "markdown",
      "source": [
        "5.Load this CSV: airtravel.csv\n",
        "\n",
        "-Print the first 5 rows\n",
        "\n",
        "-What do you notice about the data?"
      ],
      "metadata": {
        "id": "eZ58NzGq-shE"
      }
    },
    {
      "cell_type": "code",
      "source": [
        "from google.colab import files\n",
        "uploaded = files.upload()"
      ],
      "metadata": {
        "colab": {
          "base_uri": "https://localhost:8080/",
          "height": 73
        },
        "id": "amlgfTbG1eLS",
        "outputId": "3b707668-5f07-4f7c-e287-5dad37498b98"
      },
      "execution_count": null,
      "outputs": [
        {
          "output_type": "display_data",
          "data": {
            "text/plain": [
              "<IPython.core.display.HTML object>"
            ],
            "text/html": [
              "\n",
              "     <input type=\"file\" id=\"files-76c3e81b-de5e-4127-8027-5db717607c32\" name=\"files[]\" multiple disabled\n",
              "        style=\"border:none\" />\n",
              "     <output id=\"result-76c3e81b-de5e-4127-8027-5db717607c32\">\n",
              "      Upload widget is only available when the cell has been executed in the\n",
              "      current browser session. Please rerun this cell to enable.\n",
              "      </output>\n",
              "      <script>// Copyright 2017 Google LLC\n",
              "//\n",
              "// Licensed under the Apache License, Version 2.0 (the \"License\");\n",
              "// you may not use this file except in compliance with the License.\n",
              "// You may obtain a copy of the License at\n",
              "//\n",
              "//      http://www.apache.org/licenses/LICENSE-2.0\n",
              "//\n",
              "// Unless required by applicable law or agreed to in writing, software\n",
              "// distributed under the License is distributed on an \"AS IS\" BASIS,\n",
              "// WITHOUT WARRANTIES OR CONDITIONS OF ANY KIND, either express or implied.\n",
              "// See the License for the specific language governing permissions and\n",
              "// limitations under the License.\n",
              "\n",
              "/**\n",
              " * @fileoverview Helpers for google.colab Python module.\n",
              " */\n",
              "(function(scope) {\n",
              "function span(text, styleAttributes = {}) {\n",
              "  const element = document.createElement('span');\n",
              "  element.textContent = text;\n",
              "  for (const key of Object.keys(styleAttributes)) {\n",
              "    element.style[key] = styleAttributes[key];\n",
              "  }\n",
              "  return element;\n",
              "}\n",
              "\n",
              "// Max number of bytes which will be uploaded at a time.\n",
              "const MAX_PAYLOAD_SIZE = 100 * 1024;\n",
              "\n",
              "function _uploadFiles(inputId, outputId) {\n",
              "  const steps = uploadFilesStep(inputId, outputId);\n",
              "  const outputElement = document.getElementById(outputId);\n",
              "  // Cache steps on the outputElement to make it available for the next call\n",
              "  // to uploadFilesContinue from Python.\n",
              "  outputElement.steps = steps;\n",
              "\n",
              "  return _uploadFilesContinue(outputId);\n",
              "}\n",
              "\n",
              "// This is roughly an async generator (not supported in the browser yet),\n",
              "// where there are multiple asynchronous steps and the Python side is going\n",
              "// to poll for completion of each step.\n",
              "// This uses a Promise to block the python side on completion of each step,\n",
              "// then passes the result of the previous step as the input to the next step.\n",
              "function _uploadFilesContinue(outputId) {\n",
              "  const outputElement = document.getElementById(outputId);\n",
              "  const steps = outputElement.steps;\n",
              "\n",
              "  const next = steps.next(outputElement.lastPromiseValue);\n",
              "  return Promise.resolve(next.value.promise).then((value) => {\n",
              "    // Cache the last promise value to make it available to the next\n",
              "    // step of the generator.\n",
              "    outputElement.lastPromiseValue = value;\n",
              "    return next.value.response;\n",
              "  });\n",
              "}\n",
              "\n",
              "/**\n",
              " * Generator function which is called between each async step of the upload\n",
              " * process.\n",
              " * @param {string} inputId Element ID of the input file picker element.\n",
              " * @param {string} outputId Element ID of the output display.\n",
              " * @return {!Iterable<!Object>} Iterable of next steps.\n",
              " */\n",
              "function* uploadFilesStep(inputId, outputId) {\n",
              "  const inputElement = document.getElementById(inputId);\n",
              "  inputElement.disabled = false;\n",
              "\n",
              "  const outputElement = document.getElementById(outputId);\n",
              "  outputElement.innerHTML = '';\n",
              "\n",
              "  const pickedPromise = new Promise((resolve) => {\n",
              "    inputElement.addEventListener('change', (e) => {\n",
              "      resolve(e.target.files);\n",
              "    });\n",
              "  });\n",
              "\n",
              "  const cancel = document.createElement('button');\n",
              "  inputElement.parentElement.appendChild(cancel);\n",
              "  cancel.textContent = 'Cancel upload';\n",
              "  const cancelPromise = new Promise((resolve) => {\n",
              "    cancel.onclick = () => {\n",
              "      resolve(null);\n",
              "    };\n",
              "  });\n",
              "\n",
              "  // Wait for the user to pick the files.\n",
              "  const files = yield {\n",
              "    promise: Promise.race([pickedPromise, cancelPromise]),\n",
              "    response: {\n",
              "      action: 'starting',\n",
              "    }\n",
              "  };\n",
              "\n",
              "  cancel.remove();\n",
              "\n",
              "  // Disable the input element since further picks are not allowed.\n",
              "  inputElement.disabled = true;\n",
              "\n",
              "  if (!files) {\n",
              "    return {\n",
              "      response: {\n",
              "        action: 'complete',\n",
              "      }\n",
              "    };\n",
              "  }\n",
              "\n",
              "  for (const file of files) {\n",
              "    const li = document.createElement('li');\n",
              "    li.append(span(file.name, {fontWeight: 'bold'}));\n",
              "    li.append(span(\n",
              "        `(${file.type || 'n/a'}) - ${file.size} bytes, ` +\n",
              "        `last modified: ${\n",
              "            file.lastModifiedDate ? file.lastModifiedDate.toLocaleDateString() :\n",
              "                                    'n/a'} - `));\n",
              "    const percent = span('0% done');\n",
              "    li.appendChild(percent);\n",
              "\n",
              "    outputElement.appendChild(li);\n",
              "\n",
              "    const fileDataPromise = new Promise((resolve) => {\n",
              "      const reader = new FileReader();\n",
              "      reader.onload = (e) => {\n",
              "        resolve(e.target.result);\n",
              "      };\n",
              "      reader.readAsArrayBuffer(file);\n",
              "    });\n",
              "    // Wait for the data to be ready.\n",
              "    let fileData = yield {\n",
              "      promise: fileDataPromise,\n",
              "      response: {\n",
              "        action: 'continue',\n",
              "      }\n",
              "    };\n",
              "\n",
              "    // Use a chunked sending to avoid message size limits. See b/62115660.\n",
              "    let position = 0;\n",
              "    do {\n",
              "      const length = Math.min(fileData.byteLength - position, MAX_PAYLOAD_SIZE);\n",
              "      const chunk = new Uint8Array(fileData, position, length);\n",
              "      position += length;\n",
              "\n",
              "      const base64 = btoa(String.fromCharCode.apply(null, chunk));\n",
              "      yield {\n",
              "        response: {\n",
              "          action: 'append',\n",
              "          file: file.name,\n",
              "          data: base64,\n",
              "        },\n",
              "      };\n",
              "\n",
              "      let percentDone = fileData.byteLength === 0 ?\n",
              "          100 :\n",
              "          Math.round((position / fileData.byteLength) * 100);\n",
              "      percent.textContent = `${percentDone}% done`;\n",
              "\n",
              "    } while (position < fileData.byteLength);\n",
              "  }\n",
              "\n",
              "  // All done.\n",
              "  yield {\n",
              "    response: {\n",
              "      action: 'complete',\n",
              "    }\n",
              "  };\n",
              "}\n",
              "\n",
              "scope.google = scope.google || {};\n",
              "scope.google.colab = scope.google.colab || {};\n",
              "scope.google.colab._files = {\n",
              "  _uploadFiles,\n",
              "  _uploadFilesContinue,\n",
              "};\n",
              "})(self);\n",
              "</script> "
            ]
          },
          "metadata": {}
        },
        {
          "output_type": "stream",
          "name": "stdout",
          "text": [
            "Saving airtravel.csv to airtravel.csv\n"
          ]
        }
      ]
    },
    {
      "cell_type": "code",
      "source": [
        "#example\n",
        "import pandas as pd\n",
        "data = {\n",
        "    'Name': ['Alice', 'Bob', 'Charlie'],\n",
        "    'Age': [25, 30, 35],\n",
        "    'Salary': [50000, 60000, 70000]\n",
        "}\n",
        "df = pd.DataFrame(data)\n",
        "print(\"Shape of the DtaFrame:\", df.shape)\n",
        "print(\"\\nDescriptive Statistics:\")\n",
        "print(df.describe())\n"
      ],
      "metadata": {
        "colab": {
          "base_uri": "https://localhost:8080/"
        },
        "id": "QMGY8xiiZ6g9",
        "outputId": "d01c69f2-b809-4074-9ff4-a1bb2343d7ec"
      },
      "execution_count": null,
      "outputs": [
        {
          "output_type": "stream",
          "name": "stdout",
          "text": [
            "Shape of the DtaFrame: (3, 3)\n",
            "\n",
            "Descriptive Statistics:\n",
            "        Age   Salary\n",
            "count   3.0      3.0\n",
            "mean   30.0  60000.0\n",
            "std     5.0  10000.0\n",
            "min    25.0  50000.0\n",
            "25%    27.5  55000.0\n",
            "50%    30.0  60000.0\n",
            "75%    32.5  65000.0\n",
            "max    35.0  70000.0\n"
          ]
        }
      ]
    },
    {
      "cell_type": "code",
      "source": [
        "import pandas as pd\n",
        "\n",
        "data = {\n",
        "    \"Month\": [\"JAN\", \"FEB\", \"MAR\", \"APR\", \"MAY\", \"JUN\", \"JUL\", \"AUG\", \"SEP\", \"OCT\", \"NOV\", \"DEC\"],\n",
        "    \"1958\": [340, 318, 362, 348, 363, 435, 491, 505, 404, 359, 310, 337],\n",
        "    \"1959\": [360, 342, 406, 396, 420, 472, 548, 559, 463, 407, 362, 405],\n",
        "    \"1960\": [417, 391, 419, 461, 472, 535, 622, 606, 508, 461, 390, 432]\n",
        "}\n",
        "\n",
        "df = pd.DataFrame(data)\n",
        "\n",
        "\n",
        "print(df.head())\n",
        "\n",
        "'''\n",
        "output\n",
        "\n",
        "Month  1958  1959  1960\n",
        "0   JAN   340   360   417\n",
        "1   FEB   318   342   391\n",
        "2   MAR   362   406   419\n",
        "3   APR   348   396   461\n",
        "4   MAY   363   420   472\n",
        "'''"
      ],
      "metadata": {
        "colab": {
          "base_uri": "https://localhost:8080/",
          "height": 157
        },
        "id": "JzuLQqrGjMYV",
        "outputId": "35b688b5-9c2e-4268-835b-64adf0f20317"
      },
      "execution_count": null,
      "outputs": [
        {
          "output_type": "stream",
          "name": "stdout",
          "text": [
            "  Month  1958  1959  1960\n",
            "0   JAN   340   360   417\n",
            "1   FEB   318   342   391\n",
            "2   MAR   362   406   419\n",
            "3   APR   348   396   461\n",
            "4   MAY   363   420   472\n"
          ]
        },
        {
          "output_type": "execute_result",
          "data": {
            "text/plain": [
              "'\\noutput\\n\\nMonth  1958  1959  1960\\n0   JAN   340   360   417\\n1   FEB   318   342   391\\n2   MAR   362   406   419\\n3   APR   348   396   461\\n4   MAY   363   420   472\\n'"
            ],
            "application/vnd.google.colaboratory.intrinsic+json": {
              "type": "string"
            }
          },
          "metadata": {},
          "execution_count": 4
        }
      ]
    },
    {
      "cell_type": "markdown",
      "source": [
        "1,Structure:The data appears to represent monthly values (e.g., sales, production, or other measurements) for three different years: 1958, 1959, and 1960.\n",
        "   \n",
        "2,Trends:There is an upward trend in values across the years, particularly visible in months like JUL, where the value increases significantly from 491 (1958) to 622 (1960).\n",
        "\n",
        "3,Seasonality:The data exhibits seasonality, as the values fluctuate between months. For example, JUL and AUG seem to have the highest values each year, while months like NOV and DEC have lower values.\n",
        "\n",
        "4,Consistency Across Years: The general pattern of high and low months is consistent across all years, which could indicate a recurring seasonal trend."
      ],
      "metadata": {
        "id": "9d061xNwkW7B"
      }
    },
    {
      "cell_type": "markdown",
      "source": [
        "6.Load the CSV from Q5 and find:\n",
        "\n",
        "-The month with the highest total passengers\n",
        "\n",
        "-The month with the lowest in 1958"
      ],
      "metadata": {
        "id": "9UD4Vyts_JHo"
      }
    },
    {
      "cell_type": "code",
      "source": [
        "df.columns = df.columns.str.replace('\"', '').str.strip()"
      ],
      "metadata": {
        "id": "hJOj17V2oPz1"
      },
      "execution_count": null,
      "outputs": []
    },
    {
      "cell_type": "code",
      "source": [
        "df['1958']"
      ],
      "metadata": {
        "colab": {
          "base_uri": "https://localhost:8080/",
          "height": 460
        },
        "id": "nyjUt2JV4o8K",
        "outputId": "f2770f0e-8601-4734-82a7-00e72b79eeca"
      },
      "execution_count": null,
      "outputs": [
        {
          "output_type": "execute_result",
          "data": {
            "text/plain": [
              "0     340\n",
              "1     318\n",
              "2     362\n",
              "3     348\n",
              "4     363\n",
              "5     435\n",
              "6     491\n",
              "7     505\n",
              "8     404\n",
              "9     359\n",
              "10    310\n",
              "11    337\n",
              "Name: 1958, dtype: int64"
            ],
            "text/html": [
              "<div>\n",
              "<style scoped>\n",
              "    .dataframe tbody tr th:only-of-type {\n",
              "        vertical-align: middle;\n",
              "    }\n",
              "\n",
              "    .dataframe tbody tr th {\n",
              "        vertical-align: top;\n",
              "    }\n",
              "\n",
              "    .dataframe thead th {\n",
              "        text-align: right;\n",
              "    }\n",
              "</style>\n",
              "<table border=\"1\" class=\"dataframe\">\n",
              "  <thead>\n",
              "    <tr style=\"text-align: right;\">\n",
              "      <th></th>\n",
              "      <th>1958</th>\n",
              "    </tr>\n",
              "  </thead>\n",
              "  <tbody>\n",
              "    <tr>\n",
              "      <th>0</th>\n",
              "      <td>340</td>\n",
              "    </tr>\n",
              "    <tr>\n",
              "      <th>1</th>\n",
              "      <td>318</td>\n",
              "    </tr>\n",
              "    <tr>\n",
              "      <th>2</th>\n",
              "      <td>362</td>\n",
              "    </tr>\n",
              "    <tr>\n",
              "      <th>3</th>\n",
              "      <td>348</td>\n",
              "    </tr>\n",
              "    <tr>\n",
              "      <th>4</th>\n",
              "      <td>363</td>\n",
              "    </tr>\n",
              "    <tr>\n",
              "      <th>5</th>\n",
              "      <td>435</td>\n",
              "    </tr>\n",
              "    <tr>\n",
              "      <th>6</th>\n",
              "      <td>491</td>\n",
              "    </tr>\n",
              "    <tr>\n",
              "      <th>7</th>\n",
              "      <td>505</td>\n",
              "    </tr>\n",
              "    <tr>\n",
              "      <th>8</th>\n",
              "      <td>404</td>\n",
              "    </tr>\n",
              "    <tr>\n",
              "      <th>9</th>\n",
              "      <td>359</td>\n",
              "    </tr>\n",
              "    <tr>\n",
              "      <th>10</th>\n",
              "      <td>310</td>\n",
              "    </tr>\n",
              "    <tr>\n",
              "      <th>11</th>\n",
              "      <td>337</td>\n",
              "    </tr>\n",
              "  </tbody>\n",
              "</table>\n",
              "</div><br><label><b>dtype:</b> int64</label>"
            ]
          },
          "metadata": {},
          "execution_count": 18
        }
      ]
    },
    {
      "cell_type": "code",
      "source": [
        "df['Total'] = df[\"1958\"] + df[\"1959\"] + df[\"1960\"]\n",
        "\n",
        "\n",
        "max_month = df.loc[df['Total'].idxmax()]\n",
        "\n",
        "print(max_month['Month'], \"->\", max_month['Total'], \"passengers\")\n",
        "\n",
        "min_month = df.loc[df['1958'].idxmax()]\n",
        "print(min_month['Month'], \"->\", min_month['1958'], \"passengers\")"
      ],
      "metadata": {
        "colab": {
          "base_uri": "https://localhost:8080/"
        },
        "id": "i51M87AA43Ur",
        "outputId": "d757afc8-260c-4a0c-82a4-5b15cc8b2098"
      },
      "execution_count": null,
      "outputs": [
        {
          "output_type": "stream",
          "name": "stdout",
          "text": [
            "AUG -> 1670 passengers\n",
            "AUG -> 505 passengers\n"
          ]
        }
      ]
    },
    {
      "cell_type": "markdown",
      "source": [
        "7.What does the .groupby() function do in pandas? Show an example using dummy data."
      ],
      "metadata": {
        "id": "GhU8OaoM_VVe"
      }
    },
    {
      "cell_type": "markdown",
      "source": [
        ".groupby():- is used to group data based on specific columns and apply aggregation or transformation functions on those groups.it is particullarly useful for analyzing datasets and extracting meaingful insights."
      ],
      "metadata": {
        "id": "7lfZuLaNt6yI"
      }
    },
    {
      "cell_type": "code",
      "source": [
        "import pandas as pd\n",
        "\n",
        "data = {\n",
        "    \"Department\": [\"HR\", \"IT\", \"HR\", \"Finance\", \"IT\", \"Finance\", \"HR\"],\n",
        "    \"Employee\": [\"Alice\", \"Bob\", \"Charlie\", \"David\", \"Eva\", \"Frank\", \"Grace\"],\n",
        "    \"Salary\": [50000, 60000, 55000, 70000, 65000, 72000, 52000]\n",
        "}\n",
        "\n",
        "df = pd.DataFrame(data)\n",
        "\n",
        "grouped = df.groupby(\"Department\")[\"Salary\"].sum()\n",
        "\n",
        "print(grouped)"
      ],
      "metadata": {
        "colab": {
          "base_uri": "https://localhost:8080/"
        },
        "id": "9Qrot0RC5UCP",
        "outputId": "3eaba901-b8d4-42a5-cddf-3962c5a21858"
      },
      "execution_count": null,
      "outputs": [
        {
          "output_type": "stream",
          "name": "stdout",
          "text": [
            "Department\n",
            "Finance    142000\n",
            "HR         157000\n",
            "IT         125000\n",
            "Name: Salary, dtype: int64\n"
          ]
        }
      ]
    },
    {
      "cell_type": "markdown",
      "source": [
        "8.Load the Titanic dataset from seaborn and:\n",
        "-Count how many missing values are in each column."
      ],
      "metadata": {
        "id": "vktjj4lv_keb"
      }
    },
    {
      "cell_type": "code",
      "source": [
        "import seaborn as sns\n",
        "import pandas as pd\n",
        "\n",
        "df = sns.load_dataset(\"titanic\")\n",
        "\n",
        "missing_values = df.isnull().sum()\n",
        "\n",
        "print(\"Missing values in each column:\")\n",
        "print(missing_values)"
      ],
      "metadata": {
        "colab": {
          "base_uri": "https://localhost:8080/"
        },
        "id": "uegVCfzq5t7X",
        "outputId": "33b32f2d-4f0a-42d8-96c1-ea8901d9a1c3"
      },
      "execution_count": null,
      "outputs": [
        {
          "output_type": "stream",
          "name": "stdout",
          "text": [
            "Missing values in each column:\n",
            "survived         0\n",
            "pclass           0\n",
            "sex              0\n",
            "age            177\n",
            "sibsp            0\n",
            "parch            0\n",
            "fare             0\n",
            "embarked         2\n",
            "class            0\n",
            "who              0\n",
            "adult_male       0\n",
            "deck           688\n",
            "embark_town      2\n",
            "alive            0\n",
            "alone            0\n",
            "dtype: int64\n"
          ]
        }
      ]
    },
    {
      "cell_type": "markdown",
      "source": [
        "9.Use df[\"Age\"].hist() to visualize the age distribution.\n",
        "\n",
        "-What shape do you see\n",
        "\n",
        "-What might be the reason for the skew?"
      ],
      "metadata": {
        "id": "rQwKH6FP_0Mz"
      }
    },
    {
      "cell_type": "code",
      "source": [
        "import seaborn as sns\n",
        "import matplotlib.pyplot as plt\n",
        "\n",
        "df = sns.load_dataset(\"titanic\")\n",
        "\n",
        "df[\"age\"].hist(bins=20, edgecolor=\"black\")\n",
        "plt.title(\"Age Distribution of Titanic Passengers\")\n",
        "plt.xlabel(\"Age\")\n",
        "plt.ylabel(\"Frequency\")\n",
        "plt.show()"
      ],
      "metadata": {
        "colab": {
          "base_uri": "https://localhost:8080/",
          "height": 472
        },
        "id": "jUA4IZat6RtZ",
        "outputId": "7f29912f-00d4-4345-9359-692f766e530c"
      },
      "execution_count": null,
      "outputs": [
        {
          "output_type": "display_data",
          "data": {
            "text/plain": [
              "<Figure size 640x480 with 1 Axes>"
            ],
            "image/png": "[encoded data removed]"
          },
          "metadata": {}
        }
      ]
    },
    {
      "cell_type": "markdown",
      "source": [
        "Shape Observations:\n",
        "-The histogram typically shows a right-skewed distribution (positively skewed).\n",
        "-Many passengers are young, and fewer are older.\n",
        "\n",
        "reasons for the skew:\n",
        "-The age distribution in the Titanic dataset is skewed because the majority of passengers were younger, including families traveling with children, leading to a higher concentration in the lower age ranges."
      ],
      "metadata": {
        "id": "10_MeM736fRt"
      }
    },
    {
      "cell_type": "markdown",
      "source": [
        "10.What does it mean if a column has a high standard deviation?\n",
        "\n",
        "Create a list or column that has a low and a high std. dev, and compare."
      ],
      "metadata": {
        "id": "9BV-qCQjAH_y"
      }
    },
    {
      "cell_type": "markdown",
      "source": [
        "A column with a high standard deviation indicates that the values in that column are spread widely around the mean. This means there is greater variability or fluctuation among the data points. Conversely, a low standard deviation shows that values are tightly clustered around the mean."
      ],
      "metadata": {
        "id": "9Zqh3Rnr71FU"
      }
    },
    {
      "cell_type": "code",
      "source": [
        "import pandas as pd\n",
        "\n",
        "data = {\n",
        "    \"Low_Std_Dev\": [10, 11, 10, 12, 11, 10],\n",
        "    \"High_Std_Dev\": [5, 20, 45, 30, 15, 50]\n",
        "}\n",
        "\n",
        "df = pd.DataFrame(data)\n",
        "\n",
        "low_std = df[\"Low_Std_Dev\"].std()\n",
        "high_std = df[\"High_Std_Dev\"].std()\n",
        "\n",
        "print(\"Low Standard Deviation:\", low_std)\n",
        "print(\"High Standard Deviation:\", high_std)"
      ],
      "metadata": {
        "colab": {
          "base_uri": "https://localhost:8080/"
        },
        "id": "HnEx1jdq8C2P",
        "outputId": "70ee891d-208c-4636-d39b-7819b74ee373"
      },
      "execution_count": null,
      "outputs": [
        {
          "output_type": "stream",
          "name": "stdout",
          "text": [
            "Low Standard Deviation: 0.816496580927726\n",
            "High Standard Deviation: 17.53567791675018\n"
          ]
        }
      ]
    },
    {
      "cell_type": "markdown",
      "source": [
        "11.What are some real-world problems where missing data might affect results? Give 2 examples."
      ],
      "metadata": {
        "id": "J8zGcRXLANIu"
      }
    },
    {
      "cell_type": "markdown",
      "source": [
        "Airline Bookings:\n",
        "   -If passenger details like passport number or seat preference are incomplete, it could cause issues during check-in or boarding.\n",
        "\n",
        "Weather Monitoring:\n",
        "   -Missing temperature or rainfall data could lead to incorrect weather predictions, which might affect farming or outdoor activities."
      ],
      "metadata": {
        "id": "idA4VTuD9aEx"
      }
    }
  ]
}